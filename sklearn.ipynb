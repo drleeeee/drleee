{
  "nbformat": 4,
  "nbformat_minor": 0,
  "metadata": {
    "colab": {
      "name": "자료구조 선형회귀",
      "provenance": [],
      "authorship_tag": "ABX9TyPbRfpbepz3huR/9Ue7b+9W",
      "include_colab_link": true
    },
    "kernelspec": {
      "name": "python3",
      "display_name": "Python 3"
    },
    "language_info": {
      "name": "python"
    }
  },
  "cells": [
    {
      "cell_type": "markdown",
      "metadata": {
        "id": "view-in-github",
        "colab_type": "text"
      },
      "source": [
        "<a href=\"https://colab.research.google.com/github/drleeeee/drleee/blob/main/sklearn.ipynb\" target=\"_parent\"><img src=\"https://colab.research.google.com/assets/colab-badge.svg\" alt=\"Open In Colab\"/></a>"
      ]
    },
    {
      "cell_type": "code",
      "metadata": {
        "id": "gfwG3KnZT7bJ"
      },
      "source": [
        "from sklearn import linear_model #scikit_learn 모듈을 가져온다.\n",
        "regr = linear_model.LinearRegression() # sklearn 선형회귀 모델 생성기 :regr"
      ],
      "execution_count": null,
      "outputs": []
    },
    {
      "cell_type": "code",
      "metadata": {
        "colab": {
          "base_uri": "https://localhost:8080/"
        },
        "id": "WyBwNb3eU9oX",
        "outputId": "42735652-26b8-475a-a0a7-a05710e3f29b"
      },
      "source": [
        "x=[[1], [2], [3], [4], [5]] #다중회귀에도 사용하도록 함. 입력값은 반드시 2차원 배열\n",
        "y=[1,4,9,16,25] # y=f(x)의 결과, y는 목표(target)값\n",
        "# 선형회귀 모델을 생성하는 함수로 입력벡터 x를 목표값 y에 최적화시키는(fitting)모델을 만든다, 모델 생성기\n",
        "regr.fit(x,y)\n",
        "coef=regr.coef_\n",
        "intercept=regr.intercept_\n",
        "score=regr.score(x,y)\n",
        "print(\"y\",coef, \"*x+\", intercept)\n",
        "print(\"The socre of this line for data :  \", score)"
      ],
      "execution_count": null,
      "outputs": [
        {
          "output_type": "stream",
          "text": [
            "y [6.] *x+ -6.9999999999999964\n",
            "The socre of this line for data :   0.9625668449197861\n"
          ],
          "name": "stdout"
        }
      ]
    },
    {
      "cell_type": "code",
      "metadata": {
        "colab": {
          "base_uri": "https://localhost:8080/"
        },
        "id": "4yUiJ9mCV3K6",
        "outputId": "9e31e8b7-4fa2-414a-ff12-795c15f29948"
      },
      "source": [
        "input_data=[[180], [185]]\n",
        "result=regr.predict(input_data)\n",
        "print(result)"
      ],
      "execution_count": null,
      "outputs": [
        {
          "output_type": "stream",
          "text": [
            "[1073. 1103.]\n"
          ],
          "name": "stdout"
        }
      ]
    },
    {
      "cell_type": "code",
      "metadata": {
        "colab": {
          "base_uri": "https://localhost:8080/",
          "height": 282
        },
        "id": "q1_WelhoWKc3",
        "outputId": "a09fd24f-a885-4b54-fbf0-cba9c76e7c0c"
      },
      "source": [
        "import matplotlib.pyplot as plt\n",
        "plt.scatter(x,y,color='black')\n",
        "y_pred=regr.predict(x)\n",
        "\n",
        "plt.plot(x,y_pred,color='blue',linewidth=3)\n",
        "plt.show"
      ],
      "execution_count": null,
      "outputs": [
        {
          "output_type": "execute_result",
          "data": {
            "text/plain": [
              "<function matplotlib.pyplot.show>"
            ]
          },
          "metadata": {
            "tags": []
          },
          "execution_count": 34
        },
        {
          "output_type": "display_data",
          "data": {
            "image/png": "[encoded data removed]",
            "text/plain": [
              "<Figure size 432x288 with 1 Axes>"
            ]
          },
          "metadata": {
            "tags": [],
            "needs_background": "light"
          }
        }
      ]
    }
  ]
}